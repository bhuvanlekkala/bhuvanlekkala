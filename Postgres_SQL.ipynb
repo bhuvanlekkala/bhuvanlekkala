{
  "nbformat": 4,
  "nbformat_minor": 0,
  "metadata": {
    "colab": {
      "name": "Postgres SQL.ipynb",
      "provenance": [],
      "authorship_tag": "ABX9TyPkNfQN3zBRYuxDzDimW+fS",
      "include_colab_link": true
    },
    "kernelspec": {
      "name": "python3",
      "display_name": "Python 3"
    },
    "language_info": {
      "name": "python"
    }
  },
  "cells": [
    {
      "cell_type": "markdown",
      "metadata": {
        "id": "view-in-github",
        "colab_type": "text"
      },
      "source": [
        "<a href=\"https://colab.research.google.com/github/bhuvanlekkala/bhuvanlekkala/blob/main/Postgres_SQL.ipynb\" target=\"_parent\"><img src=\"https://colab.research.google.com/assets/colab-badge.svg\" alt=\"Open In Colab\"/></a>"
      ]
    },
    {
      "cell_type": "code",
      "execution_count": null,
      "metadata": {
        "id": "tzofFEroVLN-"
      },
      "outputs": [],
      "source": [
        ""
      ]
    },
    {
      "cell_type": "markdown",
      "source": [
        "Download and Install SQL(Postgres or orcale or MS)\n",
        "Give a password\n",
        "\n",
        "Open Postgres SQL Shell ( NOT windows )\n",
        "Server [localhost]:\n",
        "Enter\n",
        "Database [postgres]:\n",
        "Enter\n",
        "Port [5432]:\n",
        "Enter\n",
        "Username [postgres]:\n",
        "Enter\n",
        "Password for user postgres:\n",
        "Enter the given password\n",
        "\n",
        "postgres=# \n",
        "gives root access\n",
        "\n",
        "postgres=# \\l ( list of databases)\n",
        "\n",
        "\n",
        "create table person (\n",
        "\tid BIGSERIAL NOT NULL PRIMARY KEY,(Primary is the main one ) (Bigserial is for sequence)\n",
        "\tfirst_name VARCHAR(50) NOT NULL,\n",
        "\tlast_name VARCHAR(50) NOT NULL,\n",
        "\temail VARCHAR(150),\n",
        "\tgender VARCHAR(7)NOT NULL,\n",
        "\tdate_of_birth DATE NOT NULL,\n",
        "\tcountry VARCHAR(50)\n",
        ");\n",
        "postgres=# \\c test (connect with databases or host)\n",
        "\n",
        " test-# ( Connect with already saved database)\n",
        "\n",
        " test-# \\i(destinataion folder) /Users/Bhuvan/Downloads/person.sql ( connect sql file data saved in pc)\n",
        "\n",
        "Press enter\n",
        "\n",
        "test=# SELECT * FROM person; (gives all data in table format)\n",
        "test=# SELECT * FROM person ORDER BY country; ( it specifies by Ascending order)\n",
        "test=# SELECT * FROM person ORDER BY country DESC; ( it specifies by Descending order)\n",
        "\n",
        "test=# SELECT * FROM person ORDER BY email DESC; ( generally shows null data email first)\n",
        "\n",
        "test=# SELECT * FROM person ORDER BY id,email; (can sort by both columns)\n",
        "\n",
        "Thumb rule (select only 1 column)\n",
        "\n",
        "test=# SELECT country FROM person; (shows all country data with duplicates)\n",
        "test=# SELECT country FROM person ORDER BY country;( sort all data in ascending order with duplicates)\n",
        "test=# SELECT DISTINCT country FROM person ORDER BY country;( removes duplicates of same country)\n"
      ],
      "metadata": {
        "id": "2vmadpQRVTGt"
      }
    },
    {
      "cell_type": "markdown",
      "source": [
        "test=# SELECT * FROM person WHERE gender = 'Male'; (filter by gender male)\n",
        "\n",
        "\n",
        "test=# SELECT * FROM person WHERE gender = 'Male' AND country = 'Poland'; (filter by both country and gender)"
      ],
      "metadata": {
        "id": "XmwtFL482Urw"
      }
    }
  ]
}