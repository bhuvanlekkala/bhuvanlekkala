{
  "nbformat": 4,
  "nbformat_minor": 0,
  "metadata": {
    "colab": {
      "name": "Postgres SQL.ipynb",
      "provenance": [],
      "authorship_tag": "ABX9TyP8qpSuxJzI9wcykqJhnqCz",
      "include_colab_link": true
    },
    "kernelspec": {
      "name": "python3",
      "display_name": "Python 3"
    },
    "language_info": {
      "name": "python"
    }
  },
  "cells": [
    {
      "cell_type": "markdown",
      "metadata": {
        "id": "view-in-github",
        "colab_type": "text"
      },
      "source": [
        "<a href=\"https://colab.research.google.com/github/bhuvanlekkala/bhuvanlekkala/blob/main/Postgres_SQL.ipynb\" target=\"_parent\"><img src=\"https://colab.research.google.com/assets/colab-badge.svg\" alt=\"Open In Colab\"/></a>"
      ]
    },
    {
      "cell_type": "code",
      "execution_count": null,
      "metadata": {
        "id": "tzofFEroVLN-"
      },
      "outputs": [],
      "source": [
        ""
      ]
    },
    {
      "cell_type": "markdown",
      "source": [
        "Download and Install SQL(Postgres or orcale or MS)\n",
        "Give a password\n",
        "\n",
        "Open SQL Shell ( NOT windows )\n",
        "Server [localhost]:\n",
        "Enter\n",
        "Database [postgres]:\n",
        "Enter\n",
        "Port [5432]:\n",
        "Enter\n",
        "Username [postgres]:\n",
        "Enter\n",
        "Password for user postgres:\n",
        "Enter the given password\n",
        "\n",
        "postgres=# \n",
        "gives root access\n",
        "\n",
        "postgres=# \\l ( list of databases)\n",
        "\n",
        "\n",
        "create table person (\n",
        "\tid BIGSERIAL NOT NULL PRIMARY KEY,\n",
        "\tfirst_name VARCHAR(50) NOT NULL,\n",
        "\tlast_name VARCHAR(50) NOT NULL,\n",
        "\temail VARCHAR(150),\n",
        "\tgender VARCHAR(7)NOT NULL,\n",
        "\tdate_of_birth DATE NOT NULL,\n",
        "\tcountry VARCHAR(50)\n",
        ");\n",
        "postgres=# \\c test (connect with databases or host)\n",
        "\n",
        " test-#\n",
        "\n",
        "\n"
      ],
      "metadata": {
        "id": "2vmadpQRVTGt"
      }
    }
  ]
}